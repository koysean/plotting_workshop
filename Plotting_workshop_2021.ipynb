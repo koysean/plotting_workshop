{
  "nbformat": 4,
  "nbformat_minor": 0,
  "metadata": {
    "colab": {
      "name": "Plotting_workshop_2021.ipynb",
      "provenance": [],
      "include_colab_link": true
    },
    "kernelspec": {
      "name": "python3",
      "display_name": "Python 3"
    },
    "language_info": {
      "name": "python"
    }
  },
  "cells": [
    {
      "cell_type": "markdown",
      "metadata": {
        "id": "view-in-github",
        "colab_type": "text"
      },
      "source": [
        "<a href=\"https://colab.research.google.com/github/koysean/plotting_workshop/blob/main/Plotting_workshop_2021.ipynb\" target=\"_parent\"><img src=\"https://colab.research.google.com/assets/colab-badge.svg\" alt=\"Open In Colab\"/></a>"
      ]
    },
    {
      "cell_type": "code",
      "metadata": {
        "id": "6S1cwVxbpfei"
      },
      "source": [
        "import numpy as np\n",
        "import matplotlib as mpl\n",
        "import matplotlib.cm as cm\n",
        "import matplotlib.pyplot as plt"
      ],
      "execution_count": null,
      "outputs": []
    },
    {
      "cell_type": "code",
      "metadata": {
        "id": "JCzdCu_x3iQK"
      },
      "source": [
        "!wget https://raw.githubusercontent.com/koysean/plotting_workshop/main/c_e_v.csv\n",
        "!wget https://raw.githubusercontent.com/koysean/plotting_workshop/main/si_e_v.csv\n",
        "!wget https://raw.githubusercontent.com/koysean/plotting_workshop/main/ge_e_v.csv"
      ],
      "execution_count": null,
      "outputs": []
    },
    {
      "cell_type": "code",
      "metadata": {
        "id": "LdkwgIqwT0mb"
      },
      "source": [
        "c_e_v = [[], []]\n",
        "si_e_v = [[], []]\n",
        "ge_e_v = [[], []]\n",
        "\n",
        "with open('c_e_v.csv', 'r') as file:\n",
        "  for line in file.readlines():\n",
        "    split_line = line.split(',')\n",
        "    c_e_v[0].append(float(split_line[0]))\n",
        "    c_e_v[1].append(float(split_line[1]))\n",
        "  c_e_v = np.asarray(c_e_v)\n",
        "\n",
        "with open('si_e_v.csv', 'r') as file:\n",
        "  for line in file.readlines():\n",
        "    split_line = line.split(',')\n",
        "    si_e_v[0].append(float(split_line[0]))\n",
        "    si_e_v[1].append(float(split_line[1]))\n",
        "  si_e_v = np.asarray(si_e_v)\n",
        "\n",
        "with open('ge_e_v.csv', 'r') as file:\n",
        "  for line in file.readlines():\n",
        "    split_line = line.split(',')\n",
        "    ge_e_v[0].append(float(split_line[0]))\n",
        "    ge_e_v[1].append(float(split_line[1]))\n",
        "  \n",
        "  ge_e_v = np.asarray(ge_e_v)"
      ],
      "execution_count": null,
      "outputs": []
    },
    {
      "cell_type": "code",
      "metadata": {
        "colab": {
          "base_uri": "https://localhost:8080/",
          "height": 283
        },
        "id": "OU-COrxkUdR4",
        "outputId": "464ca53f-15d0-422a-94b2-8ddf7fc5053f"
      },
      "source": [
        "fig, ax = plt.subplots()\n",
        "\n",
        "ax.scatter(c_e_v[0], c_e_v[1])\n",
        "ax.scatter(si_e_v[0], si_e_v[1])\n",
        "ax.scatter(ge_e_v[0], ge_e_v[1])"
      ],
      "execution_count": null,
      "outputs": [
        {
          "output_type": "execute_result",
          "data": {
            "text/plain": [
              "<matplotlib.collections.PathCollection at 0x7fd15dd87d90>"
            ]
          },
          "metadata": {},
          "execution_count": 11
        },
        {
          "output_type": "display_data",
          "data": {
            "image/png": "[encoded data removed]",
            "text/plain": [
              "<Figure size 432x288 with 1 Axes>"
            ]
          },
          "metadata": {
            "needs_background": "light"
          }
        }
      ]
    },
    {
      "cell_type": "code",
      "metadata": {
        "id": "kmtf4yELU2AK"
      },
      "source": [
        "min_volumes = {\n",
        "    'c':  c_e_v[0][np.argmin(c_e_v[1])],\n",
        "    'si':  si_e_v[0][np.argmin(si_e_v[1])],\n",
        "    'ge':  ge_e_v[0][np.argmin(ge_e_v[1])]\n",
        "}\n",
        "\n",
        "min_energies = {\n",
        "    'c':  np.min(c_e_v[1]),\n",
        "    'si':  np.min(si_e_v[1]),\n",
        "    'ge':  np.min(ge_e_v[1])\n",
        "}"
      ],
      "execution_count": null,
      "outputs": []
    },
    {
      "cell_type": "code",
      "metadata": {
        "id": "scS4HEzaXGIL"
      },
      "source": [
        "c_e_v_scaled = np.array(\n",
        "    [c_e_v[0]/min_volumes['c'], -c_e_v[1]/min_energies['c']]\n",
        ")\n",
        "\n",
        "si_e_v_scaled = np.array(\n",
        "    [si_e_v[0]/min_volumes['si'], -si_e_v[1]/min_energies['si']]\n",
        ")\n",
        "\n",
        "ge_e_v_scaled = np.array(\n",
        "    [ge_e_v[0]/min_volumes['ge'], -ge_e_v[1]/min_energies['ge']]\n",
        ")"
      ],
      "execution_count": null,
      "outputs": []
    },
    {
      "cell_type": "code",
      "metadata": {
        "colab": {
          "base_uri": "https://localhost:8080/",
          "height": 283
        },
        "id": "4dVwjHX0XleP",
        "outputId": "1a0f6761-a222-40b0-a069-162e8402ed50"
      },
      "source": [
        "fig, ax = plt.subplots()\n",
        "\n",
        "ax.scatter(c_e_v_scaled[0], c_e_v[1])\n",
        "ax.scatter(si_e_v_scaled[0], si_e_v[1])\n",
        "ax.scatter(ge_e_v_scaled[0], ge_e_v[1])"
      ],
      "execution_count": null,
      "outputs": [
        {
          "output_type": "execute_result",
          "data": {
            "text/plain": [
              "<matplotlib.collections.PathCollection at 0x7fd15d724b50>"
            ]
          },
          "metadata": {},
          "execution_count": 14
        },
        {
          "output_type": "display_data",
          "data": {
            "image/png": "[encoded data removed]",
            "text/plain": [
              "<Figure size 432x288 with 1 Axes>"
            ]
          },
          "metadata": {
            "needs_background": "light"
          }
        }
      ]
    },
    {
      "cell_type": "code",
      "metadata": {
        "id": "5AolXG-lXnpV"
      },
      "source": [
        "fig, ax = plt.subplots()\n",
        "\n",
        "ax.plot(c_e_v_scaled[0], c_e_v_scaled[1])\n",
        "ax.plot(si_e_v_scaled[0], si_e_v_scaled[1])\n",
        "ax.plot(ge_e_v_scaled[0], ge_e_v_scaled[1])"
      ],
      "execution_count": null,
      "outputs": []
    },
    {
      "cell_type": "code",
      "metadata": {
        "id": "rfdWV9j1a1IN"
      },
      "source": [
        ""
      ],
      "execution_count": null,
      "outputs": []
    }
  ]
}