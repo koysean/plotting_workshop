{
  "nbformat": 4,
  "nbformat_minor": 0,
  "metadata": {
    "colab": {
      "name": "Plotting_workshop_2021.ipynb",
      "provenance": [],
      "collapsed_sections": [],
      "include_colab_link": true
    },
    "kernelspec": {
      "name": "python3",
      "display_name": "Python 3"
    },
    "language_info": {
      "name": "python"
    }
  },
  "cells": [
    {
      "cell_type": "markdown",
      "metadata": {
        "id": "view-in-github",
        "colab_type": "text"
      },
      "source": [
        "<a href=\"https://colab.research.google.com/github/koysean/plotting_workshop/blob/main/Plotting_workshop_2021.ipynb\" target=\"_parent\"><img src=\"https://colab.research.google.com/assets/colab-badge.svg\" alt=\"Open In Colab\"/></a>"
      ]
    },
    {
      "cell_type": "code",
      "metadata": {
        "id": "6S1cwVxbpfei"
      },
      "source": [
        "import matplotlib as mpl\n",
        "import matplotlib.cm as cm\n",
        "import matplotlib.pyplot as plt\n",
        "import numpy as np\n",
        "import numpy.polynomial.polynomial as poly\n",
        "from scipy.optimize import curve_fit"
      ],
      "execution_count": 91,
      "outputs": []
    },
    {
      "cell_type": "markdown",
      "metadata": {
        "id": "_sbjBvGVOJo9"
      },
      "source": [
        "First import data from github"
      ]
    },
    {
      "cell_type": "code",
      "metadata": {
        "id": "JCzdCu_x3iQK"
      },
      "source": [
        "!wget https://raw.githubusercontent.com/koysean/plotting_workshop/main/c_e_v.csv\n",
        "!wget https://raw.githubusercontent.com/koysean/plotting_workshop/main/si_e_v.csv\n",
        "!wget https://raw.githubusercontent.com/koysean/plotting_workshop/main/ge_e_v.csv"
      ],
      "execution_count": null,
      "outputs": []
    },
    {
      "cell_type": "markdown",
      "metadata": {
        "id": "3oZE6N1rOHRB"
      },
      "source": [
        "Then parse the CSV files into numpy arrays. With this code the data will be arranged into 2 x *n* arrays, with the first row containing volumes (Å<sup>3</sup>) and the second row containing energy (eV).\n",
        "\n",
        "*Note: raw energy values should not be directly compared as they do not share a well-defined reference point*"
      ]
    },
    {
      "cell_type": "code",
      "metadata": {
        "id": "LdkwgIqwT0mb"
      },
      "source": [
        "c_e_v = [[], []]\n",
        "si_e_v = [[], []]\n",
        "ge_e_v = [[], []]\n",
        "\n",
        "with open('c_e_v.csv', 'r') as file:\n",
        "  for line in file.readlines():\n",
        "    split_line = line.split(',')\n",
        "    c_e_v[0].append(float(split_line[0]))\n",
        "    c_e_v[1].append(float(split_line[1]))\n",
        "  c_e_v = np.asarray(c_e_v)\n",
        "\n",
        "with open('si_e_v.csv', 'r') as file:\n",
        "  for line in file.readlines():\n",
        "    split_line = line.split(',')\n",
        "    si_e_v[0].append(float(split_line[0]))\n",
        "    si_e_v[1].append(float(split_line[1]))\n",
        "  si_e_v = np.asarray(si_e_v)\n",
        "\n",
        "with open('ge_e_v.csv', 'r') as file:\n",
        "  for line in file.readlines():\n",
        "    split_line = line.split(',')\n",
        "    ge_e_v[0].append(float(split_line[0]))\n",
        "    ge_e_v[1].append(float(split_line[1]))\n",
        "  \n",
        "  ge_e_v = np.asarray(ge_e_v)"
      ],
      "execution_count": null,
      "outputs": []
    },
    {
      "cell_type": "markdown",
      "metadata": {
        "id": "TOkQZwabPT4R"
      },
      "source": [
        "We can find the equilibrium volume and energy by looking at where the energy is at a minimum."
      ]
    },
    {
      "cell_type": "code",
      "metadata": {
        "id": "kmtf4yELU2AK",
        "colab": {
          "base_uri": "https://localhost:8080/"
        },
        "outputId": "ce1bc0ff-4a4b-4e0f-b7a4-3346e421e1ee"
      },
      "source": [
        "min_volumes = {\n",
        "    'c':  c_e_v[0][np.argmin(c_e_v[1])],\n",
        "    'si':  si_e_v[0][np.argmin(si_e_v[1])],\n",
        "    'ge':  ge_e_v[0][np.argmin(ge_e_v[1])]\n",
        "}\n",
        "\n",
        "min_energies = {\n",
        "    'c':  np.min(c_e_v[1]),\n",
        "    'si':  np.min(si_e_v[1]),\n",
        "    'ge':  np.min(ge_e_v[1])\n",
        "}\n",
        "\n",
        "print('(Roughly) Equilibrium values of (V, E):')\n",
        "print('C:\\t{:.3f}, {:.3f}'.format(min_volumes['c'], min_energies['c']))\n",
        "print('Si:\\t{:.3f}, {:.3f}'.format(min_volumes['si'], min_energies['si']))\n",
        "print('Ge:\\t{:.3f}, {:.3f}'.format(min_volumes['ge'], min_energies['ge']))"
      ],
      "execution_count": null,
      "outputs": [
        {
          "output_type": "stream",
          "name": "stdout",
          "text": [
            "(Roughly) Equilibrium values of (V, E):\n",
            "C:\t11.345, -18.658\n",
            "Si:\t41.569, -10.856\n",
            "Ge:\t48.035, -9.105\n"
          ]
        }
      ]
    },
    {
      "cell_type": "markdown",
      "metadata": {
        "id": "U4n89z2vQHyU"
      },
      "source": [
        "With this data, we can plot the energy-volume curve!"
      ]
    },
    {
      "cell_type": "code",
      "metadata": {
        "colab": {
          "base_uri": "https://localhost:8080/",
          "height": 283
        },
        "id": "OU-COrxkUdR4",
        "outputId": "f3f3599c-608b-443a-ffa9-94f7bb9fd2da"
      },
      "source": [
        "fig, ax = plt.subplots()\n",
        "\n",
        "sc_c = ax.scatter(c_e_v[0], c_e_v[1])\n",
        "sc_si = ax.scatter(si_e_v[0], si_e_v[1])\n",
        "sc_ge = ax.scatter(ge_e_v[0], ge_e_v[1])\n",
        "\n",
        "ax.legend([sc_c, sc_si, sc_ge], ['C', 'Si', 'Ge'])"
      ],
      "execution_count": 89,
      "outputs": [
        {
          "output_type": "execute_result",
          "data": {
            "text/plain": [
              "<matplotlib.legend.Legend at 0x7fd142728250>"
            ]
          },
          "metadata": {},
          "execution_count": 89
        },
        {
          "output_type": "display_data",
          "data": {
            "image/png": "[encoded data removed]",
            "text/plain": [
              "<Figure size 432x288 with 1 Axes>"
            ]
          },
          "metadata": {
            "needs_background": "light"
          }
        }
      ]
    },
    {
      "cell_type": "markdown",
      "metadata": {
        "id": "G-u6BV8g7t4l"
      },
      "source": [
        "We can try a rudimentary second-order polynomial fit to the data, excluding the points where the curves are obviously non-parabolic."
      ]
    },
    {
      "cell_type": "code",
      "metadata": {
        "id": "Yan8K46t7t4r"
      },
      "source": [
        "poly_c = poly.polyfit(c_e_v[0][4:16], c_e_v[1][4:16], 2)\n",
        "poly_si = poly.polyfit(si_e_v[0][4:16], si_e_v[1][4:16], 2)\n",
        "poly_ge = poly.polyfit(ge_e_v[0][4:16], ge_e_v[1][4:16], 2)"
      ],
      "execution_count": null,
      "outputs": []
    },
    {
      "cell_type": "markdown",
      "metadata": {
        "id": "t3DzQ_lD7t4x"
      },
      "source": [
        "We can plot these fits along with the real data."
      ]
    },
    {
      "cell_type": "code",
      "metadata": {
        "colab": {
          "base_uri": "https://localhost:8080/",
          "height": 283
        },
        "id": "PnKZa-Au7t41",
        "outputId": "d2afd316-3268-42f9-8658-207ee5a908b0"
      },
      "source": [
        "fig, ax = plt.subplots()\n",
        "\n",
        "sc_c = ax.scatter(c_e_v[0], c_e_v[1])\n",
        "ax.plot(c_e_v[0], poly.polyval(c_e_v[0], poly_c))\n",
        "\n",
        "sc_si = ax.scatter(si_e_v[0], si_e_v[1])\n",
        "ax.plot(si_e_v[0], poly.polyval(si_e_v[0], poly_si))\n",
        "\n",
        "sc_ge = ax.scatter(ge_e_v[0], ge_e_v[1])\n",
        "ax.plot(ge_e_v[0], poly.polyval(ge_e_v[0], poly_ge))\n",
        "\n",
        "ax.legend([sc_c, sc_si, sc_ge], ['C', 'Si', 'Ge'])"
      ],
      "execution_count": 107,
      "outputs": [
        {
          "output_type": "execute_result",
          "data": {
            "text/plain": [
              "<matplotlib.legend.Legend at 0x7fd142041e10>"
            ]
          },
          "metadata": {},
          "execution_count": 107
        },
        {
          "output_type": "display_data",
          "data": {
            "image/png": "[encoded data removed]",
            "text/plain": [
              "<Figure size 432x288 with 1 Axes>"
            ]
          },
          "metadata": {
            "needs_background": "light"
          }
        }
      ]
    },
    {
      "cell_type": "markdown",
      "metadata": {
        "id": "2vzHk_R4QNGG"
      },
      "source": [
        "Not too good. We can do better and also extract physical parameters from this data by fitting to an equation of state. In this example, we fit to the Birch–Murnaghan equation of state:"
      ]
    },
    {
      "cell_type": "markdown",
      "metadata": {
        "id": "gcSUIedUdC7w"
      },
      "source": [
        "$E(V) = E_0 + \\dfrac{9V_0B_0}{16} \\left\\{ \\left[   \\left(  \\dfrac{V_0}{V}\\right)^{\\frac{2}{3}} - 1 \\right]^3 B_0'  + \\left[  \\left(  \\dfrac{V_0}{V}\\right)^{\\frac{2}{3}}-1 \\right]^2 \\left[ 6 - 4 \\left(  \\dfrac{V_0}{V}\\right)^{\\frac{2}{3}}    \\right]    \\right\\}$"
      ]
    },
    {
      "cell_type": "code",
      "metadata": {
        "id": "qKFQmENh9Vqy"
      },
      "source": [
        "def bm_eos(v, v0, b0, bp0, e0):\n",
        "  ''' Birch-Murnaghan EOS. \n",
        "  Arguments:\n",
        "    v: volume input\n",
        "    v0: equilibrium volume\n",
        "    b0: bulk modulus at equilibrium\n",
        "    bp0: derivative of bulk modulus wrt pressure at equilibrium\n",
        "    e0: equilibrium energy\n",
        "  \n",
        "  Outputs:\n",
        "     Internal energy of the system, E(V)\n",
        "  '''\n",
        "\n",
        "  gamma = (v0/v)**(2/3)\n",
        "\n",
        "  return e0 + 9/16 * v0 * b0 * (\n",
        "      (gamma - 1)**3 * bp0\n",
        "      + (gamma - 1)**2 * (6 - 4*gamma)\n",
        "  )"
      ],
      "execution_count": 69,
      "outputs": []
    },
    {
      "cell_type": "markdown",
      "metadata": {
        "id": "MijyUlMPhrvZ"
      },
      "source": [
        "Using scipy's optimize library, we can fit our data to the B-M equation of state. The fit coefficients are given in the order of the parameters as defined in the function above, i.e. (v0, b0, bp0, e0):"
      ]
    },
    {
      "cell_type": "code",
      "metadata": {
        "colab": {
          "base_uri": "https://localhost:8080/"
        },
        "id": "Ry3ThQF9_OQW",
        "outputId": "c17d0942-5374-401f-a1de-d255c9875ef0"
      },
      "source": [
        "fit_c, conv_c = curve_fit(bm_eos, c_e_v[0], c_e_v[1], p0 = [min_volumes['c'], 2, 2, -10])\n",
        "\n",
        "fit_si, conv_si = curve_fit(bm_eos, si_e_v[0], si_e_v[1], p0 = [min_volumes['si'], 2, 2, -10])\n",
        "\n",
        "fit_ge, conv_ge = curve_fit(bm_eos, ge_e_v[0], ge_e_v[1], p0 = [min_volumes['ge'], 2, 2, -10])\n",
        "\n",
        "print('Fit parameters for C:', fit_c)"
      ],
      "execution_count": 92,
      "outputs": [
        {
          "output_type": "stream",
          "name": "stdout",
          "text": [
            "Fit parameters for C: [ 11.31433243   2.69028099   3.91315318 -18.64456242]\n"
          ]
        }
      ]
    },
    {
      "cell_type": "markdown",
      "metadata": {
        "id": "JHn0VoqXtoS6"
      },
      "source": [
        "Again, plotting against the real data:"
      ]
    },
    {
      "cell_type": "code",
      "metadata": {
        "colab": {
          "base_uri": "https://localhost:8080/",
          "height": 283
        },
        "id": "sIWMknywBw2_",
        "outputId": "7b38701e-e9ef-4660-a55b-3cec34ee5ade"
      },
      "source": [
        "fig, ax = plt.subplots()\n",
        "\n",
        "sc_c = ax.scatter(c_e_v[0], c_e_v[1])\n",
        "ax.plot(c_e_v[0], bm_eos(c_e_v[0], *fit_c))\n",
        "\n",
        "sc_si = ax.scatter(si_e_v[0], si_e_v[1])\n",
        "ax.plot(si_e_v[0], bm_eos(si_e_v[0], *fit_si))\n",
        "\n",
        "sc_ge = ax.scatter(ge_e_v[0], ge_e_v[1])\n",
        "ax.plot(ge_e_v[0], bm_eos(ge_e_v[0], *fit_ge))\n",
        "\n",
        "ax.legend([sc_c, sc_si, sc_ge], ['C', 'Si', 'Ge'])"
      ],
      "execution_count": 106,
      "outputs": [
        {
          "output_type": "execute_result",
          "data": {
            "text/plain": [
              "<matplotlib.legend.Legend at 0x7fd141ee6690>"
            ]
          },
          "metadata": {},
          "execution_count": 106
        },
        {
          "output_type": "display_data",
          "data": {
            "image/png": "[encoded data removed]",
            "text/plain": [
              "<Figure size 432x288 with 1 Axes>"
            ]
          },
          "metadata": {
            "needs_background": "light"
          }
        }
      ]
    },
    {
      "cell_type": "markdown",
      "metadata": {
        "id": "5bEDZDTxuvV3"
      },
      "source": [
        "And it returns a pretty good fit!"
      ]
    },
    {
      "cell_type": "markdown",
      "metadata": {
        "id": "ebom08YZux-E"
      },
      "source": [
        "So far we've just created the most basic plots we can with this data and the fits. See if you can make these plots any nicer! Think about what you can communicate with this data and then try to make a clear and `a e s t h e t i c` plot.\n",
        "\n",
        "Remember, the data you have to work with for each material (C, Si, Ge) is:\n",
        "\n",
        "*   Raw DFT energy-volume data\n",
        "*   The Birch-Murnaghan equation of state and its fitted parameters, including bulk modulus\n",
        "*   The quadratic fitting coefficients\n",
        "\n",
        "\n",
        "---\n",
        "\n",
        "\n",
        "\n",
        "Some questions to get you thinking about what or how to make a good plot from this data:\n",
        "\n",
        "*   What are the quantities of interest?\n",
        "*   What do the fits show that the raw data doesn't?\n",
        "*   What do you want your audience to learn from your plot?\n",
        "*   How can you minimize the amount of thinking required on behalf of your audience in interpreting your plot; in other words, how can you make your plot efficient?\n",
        "\n",
        "Once you have a visualization, ask yourself those questions again to see if you can find further ways to improve your plot. Here are a few more questions you can ask yourself:\n",
        "\n",
        "*   Is the feature or quantity you're trying to communicate the most obvious part of the plot?\n",
        "*   Are the colors visually distinct? What about to someone with colorblindness (red-green colorblindness is the most common type)?\n",
        "*   Does understanding your plot require frequent visual lookup (i.e. looking back and forth at the plot and a legend to make sense of the plot)?\n"
      ]
    }
  ]
}