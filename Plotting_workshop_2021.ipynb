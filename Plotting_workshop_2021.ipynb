{
  "nbformat": 4,
  "nbformat_minor": 0,
  "metadata": {
    "colab": {
      "name": "Plotting_workshop_2021.ipynb",
      "provenance": [],
      "include_colab_link": true
    },
    "kernelspec": {
      "name": "python3",
      "display_name": "Python 3"
    },
    "language_info": {
      "name": "python"
    }
  },
  "cells": [
    {
      "cell_type": "markdown",
      "metadata": {
        "id": "view-in-github",
        "colab_type": "text"
      },
      "source": [
        "<a href=\"https://colab.research.google.com/github/koysean/plotting_workshop/blob/main/Plotting_workshop_2021.ipynb\" target=\"_parent\"><img src=\"https://colab.research.google.com/assets/colab-badge.svg\" alt=\"Open In Colab\"/></a>"
      ]
    },
    {
      "cell_type": "code",
      "metadata": {
        "id": "6S1cwVxbpfei"
      },
      "source": [
        "import matplotlib as mpl\n",
        "import matplotlib.cm as cm\n",
        "import matplotlib.pyplot as plt\n",
        "import numpy as np\n",
        "from scipy.optimize import curve_fit"
      ],
      "execution_count": null,
      "outputs": []
    },
    {
      "cell_type": "markdown",
      "metadata": {
        "id": "_sbjBvGVOJo9"
      },
      "source": [
        "First import data from github"
      ]
    },
    {
      "cell_type": "code",
      "metadata": {
        "id": "JCzdCu_x3iQK"
      },
      "source": [
        "!wget https://raw.githubusercontent.com/koysean/plotting_workshop/main/c_e_v.csv\n",
        "!wget https://raw.githubusercontent.com/koysean/plotting_workshop/main/si_e_v.csv\n",
        "!wget https://raw.githubusercontent.com/koysean/plotting_workshop/main/ge_e_v.csv"
      ],
      "execution_count": null,
      "outputs": []
    },
    {
      "cell_type": "markdown",
      "metadata": {
        "id": "3oZE6N1rOHRB"
      },
      "source": [
        "Then parse the CSV files into numpy arrays. With this code the data will be arranged into 2 x *n* arrays, with the first row containing volumes (Å<sup>3</sup>) and the second row containing energy (eV).\n",
        "\n",
        "*Note: raw energy values should not be directly compared as they do not share a well-defined reference point*"
      ]
    },
    {
      "cell_type": "code",
      "metadata": {
        "id": "LdkwgIqwT0mb"
      },
      "source": [
        "c_e_v = [[], []]\n",
        "si_e_v = [[], []]\n",
        "ge_e_v = [[], []]\n",
        "\n",
        "with open('c_e_v.csv', 'r') as file:\n",
        "  for line in file.readlines():\n",
        "    split_line = line.split(',')\n",
        "    c_e_v[0].append(float(split_line[0]))\n",
        "    c_e_v[1].append(float(split_line[1]))\n",
        "  c_e_v = np.asarray(c_e_v)\n",
        "\n",
        "with open('si_e_v.csv', 'r') as file:\n",
        "  for line in file.readlines():\n",
        "    split_line = line.split(',')\n",
        "    si_e_v[0].append(float(split_line[0]))\n",
        "    si_e_v[1].append(float(split_line[1]))\n",
        "  si_e_v = np.asarray(si_e_v)\n",
        "\n",
        "with open('ge_e_v.csv', 'r') as file:\n",
        "  for line in file.readlines():\n",
        "    split_line = line.split(',')\n",
        "    ge_e_v[0].append(float(split_line[0]))\n",
        "    ge_e_v[1].append(float(split_line[1]))\n",
        "  \n",
        "  ge_e_v = np.asarray(ge_e_v)"
      ],
      "execution_count": null,
      "outputs": []
    },
    {
      "cell_type": "markdown",
      "metadata": {
        "id": "TOkQZwabPT4R"
      },
      "source": [
        "We can find the equilibrium volume and energy by looking at where the energy is at a minimum."
      ]
    },
    {
      "cell_type": "code",
      "metadata": {
        "id": "kmtf4yELU2AK",
        "colab": {
          "base_uri": "https://localhost:8080/"
        },
        "outputId": "ce1bc0ff-4a4b-4e0f-b7a4-3346e421e1ee"
      },
      "source": [
        "min_volumes = {\n",
        "    'c':  c_e_v[0][np.argmin(c_e_v[1])],\n",
        "    'si':  si_e_v[0][np.argmin(si_e_v[1])],\n",
        "    'ge':  ge_e_v[0][np.argmin(ge_e_v[1])]\n",
        "}\n",
        "\n",
        "min_energies = {\n",
        "    'c':  np.min(c_e_v[1]),\n",
        "    'si':  np.min(si_e_v[1]),\n",
        "    'ge':  np.min(ge_e_v[1])\n",
        "}\n",
        "\n",
        "print('(Roughly) Equilibrium values of (V, E):')\n",
        "print('C:\\t{:.3f}, {:.3f}'.format(min_volumes['c'], min_energies['c']))\n",
        "print('Si:\\t{:.3f}, {:.3f}'.format(min_volumes['si'], min_energies['si']))\n",
        "print('Ge:\\t{:.3f}, {:.3f}'.format(min_volumes['ge'], min_energies['ge']))"
      ],
      "execution_count": null,
      "outputs": [
        {
          "output_type": "stream",
          "name": "stdout",
          "text": [
            "(Roughly) Equilibrium values of (V, E):\n",
            "C:\t11.345, -18.658\n",
            "Si:\t41.569, -10.856\n",
            "Ge:\t48.035, -9.105\n"
          ]
        }
      ]
    },
    {
      "cell_type": "markdown",
      "metadata": {
        "id": "U4n89z2vQHyU"
      },
      "source": [
        "With this data, we can plot the energy-volume curve!"
      ]
    },
    {
      "cell_type": "code",
      "metadata": {
        "colab": {
          "base_uri": "https://localhost:8080/",
          "height": 283
        },
        "id": "OU-COrxkUdR4",
        "outputId": "464ca53f-15d0-422a-94b2-8ddf7fc5053f"
      },
      "source": [
        "fig, ax = plt.subplots()\n",
        "\n",
        "ax.scatter(c_e_v[0], c_e_v[1])\n",
        "ax.scatter(si_e_v[0], si_e_v[1])\n",
        "ax.scatter(ge_e_v[0], ge_e_v[1])"
      ],
      "execution_count": null,
      "outputs": [
        {
          "output_type": "execute_result",
          "data": {
            "text/plain": [
              "<matplotlib.collections.PathCollection at 0x7fd15dd87d90>"
            ]
          },
          "metadata": {},
          "execution_count": 11
        },
        {
          "output_type": "display_data",
          "data": {
            "image/png": "[encoded data removed]",
            "text/plain": [
              "<Figure size 432x288 with 1 Axes>"
            ]
          },
          "metadata": {
            "needs_background": "light"
          }
        }
      ]
    },
    {
      "cell_type": "markdown",
      "metadata": {
        "id": "2vzHk_R4QNGG"
      },
      "source": [
        "This raw data only consists of discrete (V, E) pairs. We can extract physical parameters from this data by *fitting* to an equation of state. In this example, we fit to the Birch–Murnaghan equation of state:"
      ]
    },
    {
      "cell_type": "markdown",
      "metadata": {
        "id": "gcSUIedUdC7w"
      },
      "source": [
        "$E(V) = E_0 + \\dfrac{9V_0B_0}{16} \\left\\{ \\left[   \\left(  \\dfrac{V_0}{V}\\right)^{\\frac{2}{3}} - 1 \\right]^3 B_0'  + \\left[  \\left(  \\dfrac{V_0}{V}\\right)^{\\frac{2}{3}}-1 \\right]^2 \\left[ 6 - 4 \\left(  \\dfrac{V_0}{V}\\right)^{\\frac{2}{3}}    \\right]    \\right\\}$"
      ]
    },
    {
      "cell_type": "code",
      "metadata": {
        "id": "qKFQmENh9Vqy"
      },
      "source": [
        "def bm_eos(v, v0, b0, bp0, e0):\n",
        "  ''' Birch-Murnaghan EOS. \n",
        "  Gives the energy relative to the equilibrium energy, i.e. E(V) - E0. '''\n",
        "\n",
        "  #v0 = min_volumes['c']\n",
        "\n",
        "  gamma = (v0/v)**(2/3)\n",
        "\n",
        "  return e0 + 9/16 * v0 * b0 * (\n",
        "      (gamma - 1)**3 * bp0\n",
        "      + (gamma - 1)**2 * (6 - 4*gamma)\n",
        "  )"
      ],
      "execution_count": null,
      "outputs": []
    },
    {
      "cell_type": "code",
      "metadata": {
        "colab": {
          "base_uri": "https://localhost:8080/"
        },
        "id": "Ry3ThQF9_OQW",
        "outputId": "ba522722-4720-4b5b-db71-1e15455bb0b6"
      },
      "source": [
        "fit, conv = curve_fit(bm_eos, c_e_v[0], c_e_v[1], p0 = [min_volumes['c'], 2, 2, -10])\n",
        "fit"
      ],
      "execution_count": null,
      "outputs": [
        {
          "output_type": "execute_result",
          "data": {
            "text/plain": [
              "array([ 11.31433243,   2.69028099,   3.91315318, -18.64456242])"
            ]
          },
          "metadata": {},
          "execution_count": 65
        }
      ]
    },
    {
      "cell_type": "code",
      "metadata": {
        "colab": {
          "base_uri": "https://localhost:8080/",
          "height": 283
        },
        "id": "sIWMknywBw2_",
        "outputId": "6638255b-b031-4d10-947a-34eeb7257949"
      },
      "source": [
        "fig, ax = plt.subplots()\n",
        "\n",
        "ax.scatter(c_e_v[0], c_e_v[1])\n",
        "ax.plot(c_e_v[0], bm_eos(c_e_v[0], *fit))"
      ],
      "execution_count": null,
      "outputs": [
        {
          "output_type": "execute_result",
          "data": {
            "text/plain": [
              "[<matplotlib.lines.Line2D at 0x7fd14b5fa050>]"
            ]
          },
          "metadata": {},
          "execution_count": 66
        },
        {
          "output_type": "display_data",
          "data": {
            "image/png": "[encoded data removed]",
            "text/plain": [
              "<Figure size 432x288 with 1 Axes>"
            ]
          },
          "metadata": {
            "needs_background": "light"
          }
        }
      ]
    },
    {
      "cell_type": "code",
      "metadata": {
        "id": "scS4HEzaXGIL"
      },
      "source": [
        "c_e_v_scaled = np.array(\n",
        "    [c_e_v[0]/min_volumes['c'], -c_e_v[1]/min_energies['c']]\n",
        ")\n",
        "\n",
        "si_e_v_scaled = np.array(\n",
        "    [si_e_v[0]/min_volumes['si'], -si_e_v[1]/min_energies['si']]\n",
        ")\n",
        "\n",
        "ge_e_v_scaled = np.array(\n",
        "    [ge_e_v[0]/min_volumes['ge'], -ge_e_v[1]/min_energies['ge']]\n",
        ")"
      ],
      "execution_count": null,
      "outputs": []
    },
    {
      "cell_type": "code",
      "metadata": {
        "colab": {
          "base_uri": "https://localhost:8080/",
          "height": 283
        },
        "id": "4dVwjHX0XleP",
        "outputId": "1a0f6761-a222-40b0-a069-162e8402ed50"
      },
      "source": [
        "fig, ax = plt.subplots()\n",
        "\n",
        "ax.scatter(c_e_v_scaled[0], c_e_v[1])\n",
        "ax.scatter(si_e_v_scaled[0], si_e_v[1])\n",
        "ax.scatter(ge_e_v_scaled[0], ge_e_v[1])"
      ],
      "execution_count": null,
      "outputs": [
        {
          "output_type": "execute_result",
          "data": {
            "text/plain": [
              "<matplotlib.collections.PathCollection at 0x7fd15d724b50>"
            ]
          },
          "metadata": {},
          "execution_count": 14
        },
        {
          "output_type": "display_data",
          "data": {
            "image/png": "[encoded data removed]",
            "text/plain": [
              "<Figure size 432x288 with 1 Axes>"
            ]
          },
          "metadata": {
            "needs_background": "light"
          }
        }
      ]
    },
    {
      "cell_type": "code",
      "metadata": {
        "id": "5AolXG-lXnpV",
        "colab": {
          "base_uri": "https://localhost:8080/",
          "height": 283
        },
        "outputId": "1d31b20b-b7a0-46d0-a5ec-87e5cab1987a"
      },
      "source": [
        "fig, ax = plt.subplots()\n",
        "\n",
        "ax.plot(c_e_v_scaled[0], c_e_v_scaled[1])\n",
        "ax.plot(si_e_v_scaled[0], si_e_v_scaled[1])\n",
        "ax.plot(ge_e_v_scaled[0], ge_e_v_scaled[1])"
      ],
      "execution_count": null,
      "outputs": [
        {
          "output_type": "execute_result",
          "data": {
            "text/plain": [
              "[<matplotlib.lines.Line2D at 0x7fd15d6b3550>]"
            ]
          },
          "metadata": {},
          "execution_count": 15
        },
        {
          "output_type": "display_data",
          "data": {
            "image/png": "[encoded data removed]",
            "text/plain": [
              "<Figure size 432x288 with 1 Axes>"
            ]
          },
          "metadata": {
            "needs_background": "light"
          }
        }
      ]
    },
    {
      "cell_type": "code",
      "metadata": {
        "id": "rfdWV9j1a1IN"
      },
      "source": [
        ""
      ],
      "execution_count": null,
      "outputs": []
    }
  ]
}